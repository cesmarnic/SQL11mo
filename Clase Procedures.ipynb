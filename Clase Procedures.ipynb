{
 "cells": [
  {
   "attachments": {},
   "cell_type": "markdown",
   "metadata": {},
   "source": [
    "# Procedimientos Almacenados\n",
    "---\n",
    "\n",
    "## Definición\n",
    "Un procedimiento almacenado es un conjunto de instrucciones SQL que se almacenan en el servidor de base de datos. Los procedimientos almacenados pueden ser llamados desde el cliente, como cualquier otra instrucción SQL. Los procedimientos almacenados son muy útiles para realizar tareas complejas, ya que permiten agrupar un conjunto de instrucciones SQL que se ejecutan de forma secuencial.\n",
    "\n",
    "## Creación de un procedimiento almacenado\n",
    "Para crear un procedimiento almacenado se utiliza la siguiente sintaxis:\n",
    "\n",
    "```sql\n",
    "CREATE PROCEDURE [nombre_procedimiento]\n",
    "    @parametro1 tipo_dato,\n",
    "    @parametro2 tipo_dato,\n",
    "AS\n",
    "BEGIN\n",
    "    -- Instrucciones SQL\n",
    "END\n",
    "```"
   ]
  },
  {
   "cell_type": "code",
   "execution_count": null,
   "metadata": {
    "vscode": {
     "languageId": "sql"
    }
   },
   "outputs": [],
   "source": [
    "--Ejemplo 1: Procedimiento para obtener todos los estudiantes de la tabla Students\n",
    "CREATE PROCEDURE sp_getAllStudentes\n",
    "AS\n",
    "BEGIN\n",
    "    SELECT * FROM Students\n",
    "END"
   ]
  },
  {
   "cell_type": "code",
   "execution_count": null,
   "metadata": {
    "vscode": {
     "languageId": "sql"
    }
   },
   "outputs": [],
   "source": [
    "--Ejemplo 2: Procedimiento para buscar un estudiante por su nombre\n",
    "CREATE PROCEDURE sp_getStudentByName\n",
    "    @name varchar(50)\n",
    "AS\n",
    "BEGIN\n",
    "    SELECT * FROM Students WHERE name = @name\n",
    "END"
   ]
  }
 ],
 "metadata": {
  "language_info": {
   "name": "python"
  },
  "orig_nbformat": 4
 },
 "nbformat": 4,
 "nbformat_minor": 2
}
